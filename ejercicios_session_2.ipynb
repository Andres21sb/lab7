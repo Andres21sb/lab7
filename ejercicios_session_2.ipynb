{
  "nbformat": 4,
  "nbformat_minor": 0,
  "metadata": {
    "colab": {
      "provenance": []
    },
    "kernelspec": {
      "name": "python3",
      "display_name": "Python 3"
    },
    "language_info": {
      "name": "python"
    }
  },
  "cells": [
    {
      "cell_type": "code",
      "execution_count": null,
      "metadata": {
        "colab": {
          "base_uri": "https://localhost:8080/"
        },
        "id": "8cBeKQFIyvLy",
        "outputId": "0065d0ab-bde4-4a90-9e46-1841f4ca14c0"
      },
      "outputs": [
        {
          "output_type": "stream",
          "name": "stdout",
          "text": [
            "Ingrese la velocidad y el tiempo de la unidad movil\n",
            "Ingrese la velocidad: 2.3\n",
            "Ingrese el tiempo: 5.6\n",
            "La distancia es:  12.879999999999999\n"
          ]
        }
      ],
      "source": [
        "print('Ingrese la velocidad y el tiempo de la unidad movil')\n",
        "v=float(input('Ingrese la velocidad: '))\n",
        "t=float(input('Ingrese el tiempo: '))\n",
        "print('La distancia es: ', str(v*t))"
      ]
    },
    {
      "cell_type": "code",
      "source": [
        "\n",
        "#ejercicio 4\n",
        "ganados = int(input('Digite la cantidad de partidos ganados: '))\n",
        "perdidos = int(input('Digite la cantidad de partidos perdidos: '))\n",
        "empatados = int(input('Digite la cantidad de partidos empatados: '))\n",
        "ponderado = (ganados * 3)+ (perdidos * 0) + (empatados * 1)\n",
        "print('El ponderado es de: ',ponderado)"
      ],
      "metadata": {
        "id": "6WuHJEDezywv"
      },
      "execution_count": null,
      "outputs": []
    },
    {
      "cell_type": "code",
      "source": [
        "import math\n",
        "print('Ejercicio 6')\n",
        "x1=float(input('Digite el valor de x1: '))\n",
        "x2=float(input('Digite el valor de x2: '))\n",
        "y1=float(input('Digite el valor de y1: '))\n",
        "y2=float(input('Digite el valor de y2: '))\n",
        "formula=math.sqrt((x2-x1)**2+(y2-y1)**2)\n",
        "print('El valor de la distancia es: ',formula)"
      ],
      "metadata": {
        "colab": {
          "base_uri": "https://localhost:8080/"
        },
        "id": "17gJuhVS1vTv",
        "outputId": "03e168a7-1d7f-4936-a0b2-68b55fa98067"
      },
      "execution_count": null,
      "outputs": [
        {
          "output_type": "stream",
          "name": "stdout",
          "text": [
            "Ejercicio 6\n",
            "Digite el valor de x1: 3\n",
            "Digite el valor de x2: 6\n",
            "Digite el valor de y1: 0\n",
            "Digite el valor de y2: 0\n",
            "El valor de la distancia es:  3.0\n"
          ]
        }
      ]
    }
  ]
}