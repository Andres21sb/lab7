{
  "nbformat": 4,
  "nbformat_minor": 0,
  "metadata": {
    "colab": {
      "provenance": []
    },
    "kernelspec": {
      "name": "python3",
      "display_name": "Python 3"
    },
    "language_info": {
      "name": "python"
    }
  },
  "cells": [
    {
      "cell_type": "markdown",
      "source": [
        "Participantes grupo 07:\n",
        "  - Andrés Méndez Solano\n",
        "  - Andrés Gamboa Mena\n",
        "  - Luis Fuentes Fuentes\n",
        "  - Víctor Villarreal Guerrero\n"
      ],
      "metadata": {
        "id": "rNC_1qtdF-h0"
      }
    },
    {
      "cell_type": "code",
      "source": [
        "#Ejercicio 1 Cuadrado\n",
        "\n",
        "def calcula_area(lado):\n",
        "  return lado**2\n",
        "\n",
        "def calcula_perimetro(lado):\n",
        "  return lado * 4\n",
        "\n",
        "lado = float(input('Digite el lado: '))\n",
        "diagonal= float(input('Digite la diagonal: '))\n",
        "\n",
        "print('El area es: ',calcula_area(lado),'El perimetro es: ', calcula_perimetro(lado))"
      ],
      "metadata": {
        "id": "pZwPHOFLSfWt",
        "colab": {
          "base_uri": "https://localhost:8080/"
        },
        "outputId": "7ec2f27d-0889-4440-a1d1-fe75413ddd45"
      },
      "execution_count": null,
      "outputs": [
        {
          "output_type": "stream",
          "name": "stdout",
          "text": [
            "Digite el lado: 5\n",
            "Digite la diagonal: 2\n",
            "El area es:  25.0 El perimetro es:  20.0\n"
          ]
        }
      ]
    },
    {
      "cell_type": "code",
      "source": [
        "#Ejercicio 2 Rectangulo\n",
        "import math\n",
        "\n",
        "def calcular_area_rectangulo(base, altura):\n",
        "  return base * altura\n",
        "\n",
        "def calcular_perimetro_rectangulo(base, altura):\n",
        "  return 2 * base + 2 * altura\n",
        "\n",
        "base = float(input('Digite la base: '))\n",
        "altura = float(input('Digite la altura: '))\n",
        "\n",
        "area = calcular_area_rectangulo(base, altura)\n",
        "perimetro = calcular_perimetro_rectangulo(base, altura)\n",
        "\n",
        "print(\"El area es: \",area)\n",
        "print(\"El perimetro: \", perimetro)"
      ],
      "metadata": {
        "id": "33ddL5LzQsQM",
        "colab": {
          "base_uri": "https://localhost:8080/"
        },
        "outputId": "4e198111-c69c-4109-f8eb-3483711b50c9"
      },
      "execution_count": null,
      "outputs": [
        {
          "output_type": "stream",
          "name": "stdout",
          "text": [
            "Digite la base: 10\n",
            "Digite la altura: 5\n",
            "El area es:  50.0\n",
            "El perimetro:  30.0\n"
          ]
        }
      ]
    },
    {
      "cell_type": "code",
      "source": [
        "#Ejercicio 3 Paralelogramo\n",
        "import math\n",
        "\n",
        "def calcular_area_paralelogramo(base, altura):\n",
        "  return base * altura\n",
        "\n",
        "def calcular_perimetro_paralelogramo(ladoUno, ladoDos):\n",
        "  return 2 * ladoUno + 2 * ladoDos\n",
        "\n",
        "base = float(input('Digite la base: '))\n",
        "altura = float(input('Digite la altura: '))\n",
        "ladoUno = float(input('Digite el primer lado contiguo: '))\n",
        "ladoDos = float(input('Digite el segundo lado contiguo: '))\n",
        "\n",
        "area = calcular_area_paralelogramo(base, altura)\n",
        "perimetro = calcular_perimetro_paralelogramo(ladoUno, ladoDos)\n",
        "\n",
        "print(\"El area es: \",area)\n",
        "print(\"El perimetro: \", perimetro)"
      ],
      "metadata": {
        "id": "NA8YgD8NuLC3",
        "colab": {
          "base_uri": "https://localhost:8080/"
        },
        "outputId": "97867ea6-4db9-4939-fc15-e9bdf7f3c1eb"
      },
      "execution_count": null,
      "outputs": [
        {
          "output_type": "stream",
          "name": "stdout",
          "text": [
            "Digite la base: 10\n",
            "Digite la altura: 5\n",
            "Digite el primer lado contiguo: 10\n",
            "Digite el segundo lado contiguo: 8\n",
            "El area es:  50.0\n",
            "El perimetro:  36.0\n"
          ]
        }
      ]
    },
    {
      "cell_type": "code",
      "source": [
        "#Ejercicio 4 Triangulo\n",
        "def calcula_area(base,altura):\n",
        "  return (base*altura)/2\n",
        "\n",
        "def calcula_perimetro(lado1,lado2,base):\n",
        "  return lado1+lado2+base\n",
        "\n",
        "base = float(input('Digite la base: '))\n",
        "lado1 = float(input('Digite el lado 1: '))\n",
        "lado2 = float(input('Digite el lado 2: '))\n",
        "altura= float(input('Digite la altura: '))\n",
        "\n",
        "print('El area es: ',calcula_area(base,altura),'El perimetro es: ', calcula_perimetro(lado1,lado2,base))"
      ],
      "metadata": {
        "id": "dxDOgfjP7ODz",
        "colab": {
          "base_uri": "https://localhost:8080/"
        },
        "outputId": "6b86abc6-3512-453b-f202-c7da5f0ee023"
      },
      "execution_count": null,
      "outputs": [
        {
          "output_type": "stream",
          "name": "stdout",
          "text": [
            "Digite la base: 8\n",
            "Digite el lado 1: 5\n",
            "Digite el lado 2: 5\n",
            "Digite la altura: 7\n",
            "El area es:  28.0 El perimetro es:  18.0\n"
          ]
        }
      ]
    },
    {
      "cell_type": "code",
      "source": [
        "# Ejercicio 5 Triangulo equilatero\n",
        "import math\n",
        "\n",
        "def calcular_area_TrianguloEquilatero(x):\n",
        "  return (x**2 * math.sqrt(3))/4\n",
        "\n",
        "def calcular_perimetro_TrianguloEquilatero(x):\n",
        "  return 3*x\n",
        "\n",
        "x = float(input('Digite el valor del lado: '))\n",
        "area = calcular_area_TrianguloEquilatero(x)\n",
        "perimetro = calcular_perimetro_TrianguloEquilatero(x)\n",
        "print(\"El area es: \",area)\n",
        "print(\"El perimetro: \", perimetro)"
      ],
      "metadata": {
        "id": "2f8R8F7d7SHK",
        "colab": {
          "base_uri": "https://localhost:8080/",
          "height": 356
        },
        "outputId": "467eaf4e-c232-44df-848e-fecdb3142b41"
      },
      "execution_count": null,
      "outputs": [
        {
          "output_type": "error",
          "ename": "KeyboardInterrupt",
          "evalue": "Interrupted by user",
          "traceback": [
            "\u001b[0;31m---------------------------------------------------------------------------\u001b[0m",
            "\u001b[0;31mKeyboardInterrupt\u001b[0m                         Traceback (most recent call last)",
            "\u001b[0;32m<ipython-input-3-7a5562e0bbce>\u001b[0m in \u001b[0;36m<cell line: 10>\u001b[0;34m()\u001b[0m\n\u001b[1;32m      8\u001b[0m   \u001b[0;32mreturn\u001b[0m \u001b[0;36m3\u001b[0m\u001b[0;34m*\u001b[0m\u001b[0mx\u001b[0m\u001b[0;34m\u001b[0m\u001b[0;34m\u001b[0m\u001b[0m\n\u001b[1;32m      9\u001b[0m \u001b[0;34m\u001b[0m\u001b[0m\n\u001b[0;32m---> 10\u001b[0;31m \u001b[0mx\u001b[0m \u001b[0;34m=\u001b[0m \u001b[0mfloat\u001b[0m\u001b[0;34m(\u001b[0m\u001b[0minput\u001b[0m\u001b[0;34m(\u001b[0m\u001b[0;34m'Digite el valor del lado: '\u001b[0m\u001b[0;34m)\u001b[0m\u001b[0;34m)\u001b[0m\u001b[0;34m\u001b[0m\u001b[0;34m\u001b[0m\u001b[0m\n\u001b[0m\u001b[1;32m     11\u001b[0m \u001b[0marea\u001b[0m \u001b[0;34m=\u001b[0m \u001b[0mcalcular_area_TrianguloEquilatero\u001b[0m\u001b[0;34m(\u001b[0m\u001b[0mx\u001b[0m\u001b[0;34m)\u001b[0m\u001b[0;34m\u001b[0m\u001b[0;34m\u001b[0m\u001b[0m\n\u001b[1;32m     12\u001b[0m \u001b[0mperimetro\u001b[0m \u001b[0;34m=\u001b[0m \u001b[0mcalcular_perimetro_TrianguloEquilatero\u001b[0m\u001b[0;34m(\u001b[0m\u001b[0mx\u001b[0m\u001b[0;34m)\u001b[0m\u001b[0;34m\u001b[0m\u001b[0;34m\u001b[0m\u001b[0m\n",
            "\u001b[0;32m/usr/local/lib/python3.10/dist-packages/ipykernel/kernelbase.py\u001b[0m in \u001b[0;36mraw_input\u001b[0;34m(self, prompt)\u001b[0m\n\u001b[1;32m    849\u001b[0m                 \u001b[0;34m\"raw_input was called, but this frontend does not support input requests.\"\u001b[0m\u001b[0;34m\u001b[0m\u001b[0;34m\u001b[0m\u001b[0m\n\u001b[1;32m    850\u001b[0m             )\n\u001b[0;32m--> 851\u001b[0;31m         return self._input_request(str(prompt),\n\u001b[0m\u001b[1;32m    852\u001b[0m             \u001b[0mself\u001b[0m\u001b[0;34m.\u001b[0m\u001b[0m_parent_ident\u001b[0m\u001b[0;34m,\u001b[0m\u001b[0;34m\u001b[0m\u001b[0;34m\u001b[0m\u001b[0m\n\u001b[1;32m    853\u001b[0m             \u001b[0mself\u001b[0m\u001b[0;34m.\u001b[0m\u001b[0m_parent_header\u001b[0m\u001b[0;34m,\u001b[0m\u001b[0;34m\u001b[0m\u001b[0;34m\u001b[0m\u001b[0m\n",
            "\u001b[0;32m/usr/local/lib/python3.10/dist-packages/ipykernel/kernelbase.py\u001b[0m in \u001b[0;36m_input_request\u001b[0;34m(self, prompt, ident, parent, password)\u001b[0m\n\u001b[1;32m    893\u001b[0m             \u001b[0;32mexcept\u001b[0m \u001b[0mKeyboardInterrupt\u001b[0m\u001b[0;34m:\u001b[0m\u001b[0;34m\u001b[0m\u001b[0;34m\u001b[0m\u001b[0m\n\u001b[1;32m    894\u001b[0m                 \u001b[0;31m# re-raise KeyboardInterrupt, to truncate traceback\u001b[0m\u001b[0;34m\u001b[0m\u001b[0;34m\u001b[0m\u001b[0m\n\u001b[0;32m--> 895\u001b[0;31m                 \u001b[0;32mraise\u001b[0m \u001b[0mKeyboardInterrupt\u001b[0m\u001b[0;34m(\u001b[0m\u001b[0;34m\"Interrupted by user\"\u001b[0m\u001b[0;34m)\u001b[0m \u001b[0;32mfrom\u001b[0m \u001b[0;32mNone\u001b[0m\u001b[0;34m\u001b[0m\u001b[0;34m\u001b[0m\u001b[0m\n\u001b[0m\u001b[1;32m    896\u001b[0m             \u001b[0;32mexcept\u001b[0m \u001b[0mException\u001b[0m \u001b[0;32mas\u001b[0m \u001b[0me\u001b[0m\u001b[0;34m:\u001b[0m\u001b[0;34m\u001b[0m\u001b[0;34m\u001b[0m\u001b[0m\n\u001b[1;32m    897\u001b[0m                 \u001b[0mself\u001b[0m\u001b[0;34m.\u001b[0m\u001b[0mlog\u001b[0m\u001b[0;34m.\u001b[0m\u001b[0mwarning\u001b[0m\u001b[0;34m(\u001b[0m\u001b[0;34m\"Invalid Message:\"\u001b[0m\u001b[0;34m,\u001b[0m \u001b[0mexc_info\u001b[0m\u001b[0;34m=\u001b[0m\u001b[0;32mTrue\u001b[0m\u001b[0;34m)\u001b[0m\u001b[0;34m\u001b[0m\u001b[0;34m\u001b[0m\u001b[0m\n",
            "\u001b[0;31mKeyboardInterrupt\u001b[0m: Interrupted by user"
          ]
        }
      ]
    },
    {
      "cell_type": "code",
      "source": [
        "#Ejercicio 6 Rombo\n",
        "import math\n",
        "\n",
        "def calcular_area_Rombo(D,d):\n",
        "  return (D*d)/2\n",
        "\n",
        "def calcular_perimetro_Rombo(lado1,lado2,lado3,lado4):\n",
        "  return lado1+lado2+lado3+lado4\n",
        "\n",
        "D = float(input('Digite el valor de la diagonal mayor: '))\n",
        "d = float(input('Digite el valor de la diagonal menor: '))\n",
        "lado1 = float(input('Digite el valor del lado 1 del rombo: '))\n",
        "lado2 = float(input('Digite el valor del lado 2 del rombo: '))\n",
        "lado3 = float(input('Digite el valor del lado 3 del rombo: '))\n",
        "lado4 = float(input('Digite el valor del lado 4 del rombo: '))\n",
        "\n",
        "area = calcular_area_Rombo(D,d)\n",
        "perimetro = calcular_perimetro_Rombo(lado1,lado2,lado3,lado4)\n",
        "print(\"El area es: \",area)\n",
        "print(\"El perimetro: \", perimetro)"
      ],
      "metadata": {
        "id": "4bnb1CYL7Wkx"
      },
      "execution_count": null,
      "outputs": []
    },
    {
      "cell_type": "code",
      "source": [
        "#Ejercicio 7 Trapecio\n",
        "import math\n",
        "\n",
        "def calcular_area_trapecio(B,b,h):\n",
        "  return ((B+b)/2)/h\n",
        "\n",
        "def calcular_perimetro_trapecio(l1,l2,l3):\n",
        "  return (l1 * 2) + l2 + l3\n",
        "\n",
        "B=float(input('Ingrese el valor de la base mayor: '))\n",
        "b=float(input('Ingrese el valor de la base menor: '))\n",
        "h=float(input('Ingrese el valor de la altura: '))\n",
        "l1 = float(input('Ingrese el valor del lado: '))\n",
        "area=calcular_area_trapecio(B,b,h)\n",
        "perimetro=calcular_perimetro_trapecio(l1,B,b)\n",
        "print(\"El area es: \",area)\n",
        "print(\"El perimetro: \", perimetro)"
      ],
      "metadata": {
        "id": "ZFrS4gQE7fsq",
        "colab": {
          "base_uri": "https://localhost:8080/"
        },
        "outputId": "8d253097-b467-4905-ea54-266de3cbfcf9"
      },
      "execution_count": null,
      "outputs": [
        {
          "output_type": "stream",
          "name": "stdout",
          "text": [
            "Ingrese el valor de la base mayor: 30\n",
            "Ingrese el valor de la base menor: 20\n",
            "Ingrese el valor de la altura: 10\n",
            "Ingrese el valor de ambos lados: 15\n",
            "El area es:  2.5\n",
            "El perimetro:  80.0\n"
          ]
        }
      ]
    },
    {
      "cell_type": "code",
      "source": [
        "# Ejercicio 8 Poligono Regular\n",
        "import math\n",
        "\n",
        "def calcular_area_poligono_regular(P,a):\n",
        "  return (P * a) / 2\n",
        "\n",
        "def calcular_perimetro_poligono_regular(n, x):\n",
        "  return n * x\n",
        "\n",
        "a=float(input('Ingrese el valor del apotema: '))\n",
        "x=float(input('Ingrese el valor del lado '))\n",
        "n=float(input('Ingrese el valor del numero de lados '))\n",
        "perimetro=calcular_perimetro_poligono_regular(n, x)\n",
        "area=calcular_area_poligono_regular(perimetro,a)\n",
        "print(\"El area es: \",area)\n",
        "print(\"El perimetro: \", perimetro)"
      ],
      "metadata": {
        "id": "FHcDy_jN7qYL"
      },
      "execution_count": null,
      "outputs": []
    },
    {
      "cell_type": "code",
      "source": [
        "# Ejercicio 9 Circulo\n",
        "def calcula_area(radio):\n",
        "  return math.pi* radio**2\n",
        "\n",
        "def calcula_perimetro(lado):\n",
        "  return lado * 4\n",
        "\n",
        "radio = float(input('Digite el radio: '))\n",
        "circunferencia= float(input('Digite la circumferencia: '))\n",
        "\n",
        "print('El area es: ',calcula_area(lado),'El perimetro es: ', calcula_perimetro(lado))\n"
      ],
      "metadata": {
        "id": "RmPHXhUD7x0a"
      },
      "execution_count": null,
      "outputs": []
    }
  ]
}