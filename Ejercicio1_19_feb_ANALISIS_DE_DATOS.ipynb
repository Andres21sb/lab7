{
  "nbformat": 4,
  "nbformat_minor": 0,
  "metadata": {
    "colab": {
      "provenance": []
    },
    "kernelspec": {
      "name": "python3",
      "display_name": "Python 3"
    },
    "language_info": {
      "name": "python"
    }
  },
  "cells": [
    {
      "cell_type": "markdown",
      "source": [
        "**Lab 1: Ejercicio básico de introducción a Python**"
      ],
      "metadata": {
        "id": "hJz7EzMpWhOu"
      }
    },
    {
      "cell_type": "code",
      "execution_count": null,
      "metadata": {
        "colab": {
          "base_uri": "https://localhost:8080/"
        },
        "id": "NK4Fj8J-VrEC",
        "outputId": "c02a75bd-1755-444c-d445-a989f8d3c05d"
      },
      "outputs": [
        {
          "output_type": "stream",
          "name": "stdout",
          "text": [
            "Hola Analisis de datos\n"
          ]
        }
      ],
      "source": [
        "print('Hola Analisis de datos')"
      ]
    },
    {
      "cell_type": "code",
      "source": [
        "import math\n",
        "radio=3.5\n",
        "print('El area es :',math.pi * radio**2)"
      ],
      "metadata": {
        "colab": {
          "base_uri": "https://localhost:8080/"
        },
        "id": "ZEYs0bgtXFIF",
        "outputId": "90e88264-723f-4848-edc0-bf75623059c5"
      },
      "execution_count": null,
      "outputs": [
        {
          "output_type": "stream",
          "name": "stdout",
          "text": [
            "El area es : 38.48451000647496\n"
          ]
        }
      ]
    },
    {
      "cell_type": "markdown",
      "source": [
        "Con input\n",
        "Solo enteros haciendo casting"
      ],
      "metadata": {
        "id": "c5kxF-cTYEf1"
      }
    },
    {
      "cell_type": "code",
      "source": [
        "radio= int( input('Digite un valor para el radio') )\n",
        "print('El area es :',math.pi * radio**2)"
      ],
      "metadata": {
        "colab": {
          "base_uri": "https://localhost:8080/"
        },
        "id": "C_-ty3niYHKz",
        "outputId": "e2570695-5195-44c0-cf83-08a1256de33b"
      },
      "execution_count": null,
      "outputs": [
        {
          "output_type": "stream",
          "name": "stdout",
          "text": [
            "Digite un valor para el radio12\n",
            "El area es : 452.3893421169302\n"
          ]
        }
      ]
    }
  ]
}